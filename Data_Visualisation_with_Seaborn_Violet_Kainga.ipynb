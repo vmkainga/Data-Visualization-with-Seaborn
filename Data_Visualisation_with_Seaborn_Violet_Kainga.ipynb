{
  "nbformat": 4,
  "nbformat_minor": 0,
  "metadata": {
    "colab": {
      "name": "Data Visualisation with Seaborn-Violet Kainga",
      "provenance": [],
      "collapsed_sections": []
    },
    "kernelspec": {
      "name": "python3",
      "display_name": "Python 3"
    },
    "language_info": {
      "name": "python"
    }
  },
  "cells": [
    {
      "cell_type": "markdown",
      "metadata": {
        "id": "49LjfEBwryEa"
      },
      "source": [
        "# Data Visualization with Seaborn\n"
      ]
    },
    {
      "cell_type": "markdown",
      "metadata": {
        "id": "ElzFWF4Or4-X"
      },
      "source": [
        "## 1. Business Understanding\n",
        "\n",
        "\n"
      ]
    },
    {
      "cell_type": "markdown",
      "metadata": {
        "id": "QufCxgIa2WO-"
      },
      "source": [
        "As a data analyst working with Quick Mart chain of supermarkets, the task is to create an analysis report, complete with recommendations to guide the management team on a marketing strategy decision."
      ]
    },
    {
      "cell_type": "markdown",
      "metadata": {
        "id": "pI7eqgmI2qUw"
      },
      "source": [
        "The report should include:\n",
        "- Which product categories performed best.\n",
        "- Which branches had the highest sales and profits\n",
        "- What key trends in sales in each branch are noticeable over the time.\n",
        "- The average amount spent by customers for each branch.\n",
        "The average rating for each branch."
      ]
    },
    {
      "cell_type": "markdown",
      "metadata": {
        "id": "XTclMNZfr_Jq"
      },
      "source": [
        "## 2. Data Exploration"
      ]
    },
    {
      "cell_type": "code",
      "metadata": {
        "id": "k7o9qRU-sWBO"
      },
      "source": [
        "# Loading libraries\n",
        "# ---\n",
        "# \n",
        "import pandas as pd\n",
        "import numpy as np\n",
        "import seaborn as sns\n",
        "import matplotlib.pyplot as plt \n",
        " "
      ],
      "execution_count": null,
      "outputs": []
    },
    {
      "cell_type": "code",
      "metadata": {
        "id": "UG1lpSvlsix9"
      },
      "source": [
        "# Loading the dataset\n",
        "# --- \n",
        "# Dataset url = https://bit.ly/SupermarketsDS\n",
        "# --- \n",
        "df=pd.read_csv(\"https://bit.ly/SupermarketsDS\")\n"
      ],
      "execution_count": null,
      "outputs": []
    },
    {
      "cell_type": "code",
      "metadata": {
        "id": "ZbWBqzGSs7t7",
        "colab": {
          "base_uri": "https://localhost:8080/"
        },
        "outputId": "cd12cc72-ecd5-4838-9d13-de3f3bfd372e"
      },
      "source": [
        "# Determining the size \n",
        "# ---\n",
        "df.shape"
      ],
      "execution_count": null,
      "outputs": [
        {
          "output_type": "execute_result",
          "data": {
            "text/plain": [
              "(1000, 17)"
            ]
          },
          "metadata": {},
          "execution_count": 4
        }
      ]
    },
    {
      "cell_type": "code",
      "metadata": {
        "id": "RvqXS2Cbs-q8"
      },
      "source": [
        "# Checking the datatypes\n",
        "# ---\n",
        "df.dtypes"
      ],
      "execution_count": null,
      "outputs": []
    },
    {
      "cell_type": "code",
      "metadata": {
        "id": "zzEWtyFYtC4g",
        "colab": {
          "base_uri": "https://localhost:8080/",
          "height": 297
        },
        "outputId": "1909311e-7ba8-44fd-9e75-c97144c1c939"
      },
      "source": [
        "# Statistical summary\n",
        "# ---\n",
        "\n",
        "df.describe()"
      ],
      "execution_count": null,
      "outputs": [
        {
          "output_type": "execute_result",
          "data": {
            "text/html": [
              "<div>\n",
              "<style scoped>\n",
              "    .dataframe tbody tr th:only-of-type {\n",
              "        vertical-align: middle;\n",
              "    }\n",
              "\n",
              "    .dataframe tbody tr th {\n",
              "        vertical-align: top;\n",
              "    }\n",
              "\n",
              "    .dataframe thead th {\n",
              "        text-align: right;\n",
              "    }\n",
              "</style>\n",
              "<table border=\"1\" class=\"dataframe\">\n",
              "  <thead>\n",
              "    <tr style=\"text-align: right;\">\n",
              "      <th></th>\n",
              "      <th>Unit price</th>\n",
              "      <th>Quantity</th>\n",
              "      <th>Tax 5%</th>\n",
              "      <th>Total</th>\n",
              "      <th>cogs</th>\n",
              "      <th>gross margin percentage</th>\n",
              "      <th>gross income</th>\n",
              "      <th>Rating</th>\n",
              "    </tr>\n",
              "  </thead>\n",
              "  <tbody>\n",
              "    <tr>\n",
              "      <th>count</th>\n",
              "      <td>1000.000000</td>\n",
              "      <td>1000.000000</td>\n",
              "      <td>1000.000000</td>\n",
              "      <td>1000.000000</td>\n",
              "      <td>1000.00000</td>\n",
              "      <td>1.000000e+03</td>\n",
              "      <td>1000.000000</td>\n",
              "      <td>1000.00000</td>\n",
              "    </tr>\n",
              "    <tr>\n",
              "      <th>mean</th>\n",
              "      <td>55.672130</td>\n",
              "      <td>5.510000</td>\n",
              "      <td>15.379369</td>\n",
              "      <td>322.966749</td>\n",
              "      <td>307.58738</td>\n",
              "      <td>4.761905e+00</td>\n",
              "      <td>15.379369</td>\n",
              "      <td>6.97270</td>\n",
              "    </tr>\n",
              "    <tr>\n",
              "      <th>std</th>\n",
              "      <td>26.494628</td>\n",
              "      <td>2.923431</td>\n",
              "      <td>11.708825</td>\n",
              "      <td>245.885335</td>\n",
              "      <td>234.17651</td>\n",
              "      <td>6.220360e-14</td>\n",
              "      <td>11.708825</td>\n",
              "      <td>1.71858</td>\n",
              "    </tr>\n",
              "    <tr>\n",
              "      <th>min</th>\n",
              "      <td>10.080000</td>\n",
              "      <td>1.000000</td>\n",
              "      <td>0.508500</td>\n",
              "      <td>10.678500</td>\n",
              "      <td>10.17000</td>\n",
              "      <td>4.761905e+00</td>\n",
              "      <td>0.508500</td>\n",
              "      <td>4.00000</td>\n",
              "    </tr>\n",
              "    <tr>\n",
              "      <th>25%</th>\n",
              "      <td>32.875000</td>\n",
              "      <td>3.000000</td>\n",
              "      <td>5.924875</td>\n",
              "      <td>124.422375</td>\n",
              "      <td>118.49750</td>\n",
              "      <td>4.761905e+00</td>\n",
              "      <td>5.924875</td>\n",
              "      <td>5.50000</td>\n",
              "    </tr>\n",
              "    <tr>\n",
              "      <th>50%</th>\n",
              "      <td>55.230000</td>\n",
              "      <td>5.000000</td>\n",
              "      <td>12.088000</td>\n",
              "      <td>253.848000</td>\n",
              "      <td>241.76000</td>\n",
              "      <td>4.761905e+00</td>\n",
              "      <td>12.088000</td>\n",
              "      <td>7.00000</td>\n",
              "    </tr>\n",
              "    <tr>\n",
              "      <th>75%</th>\n",
              "      <td>77.935000</td>\n",
              "      <td>8.000000</td>\n",
              "      <td>22.445250</td>\n",
              "      <td>471.350250</td>\n",
              "      <td>448.90500</td>\n",
              "      <td>4.761905e+00</td>\n",
              "      <td>22.445250</td>\n",
              "      <td>8.50000</td>\n",
              "    </tr>\n",
              "    <tr>\n",
              "      <th>max</th>\n",
              "      <td>99.960000</td>\n",
              "      <td>10.000000</td>\n",
              "      <td>49.650000</td>\n",
              "      <td>1042.650000</td>\n",
              "      <td>993.00000</td>\n",
              "      <td>4.761905e+00</td>\n",
              "      <td>49.650000</td>\n",
              "      <td>10.00000</td>\n",
              "    </tr>\n",
              "  </tbody>\n",
              "</table>\n",
              "</div>"
            ],
            "text/plain": [
              "        Unit price     Quantity  ...  gross income      Rating\n",
              "count  1000.000000  1000.000000  ...   1000.000000  1000.00000\n",
              "mean     55.672130     5.510000  ...     15.379369     6.97270\n",
              "std      26.494628     2.923431  ...     11.708825     1.71858\n",
              "min      10.080000     1.000000  ...      0.508500     4.00000\n",
              "25%      32.875000     3.000000  ...      5.924875     5.50000\n",
              "50%      55.230000     5.000000  ...     12.088000     7.00000\n",
              "75%      77.935000     8.000000  ...     22.445250     8.50000\n",
              "max      99.960000    10.000000  ...     49.650000    10.00000\n",
              "\n",
              "[8 rows x 8 columns]"
            ]
          },
          "metadata": {},
          "execution_count": 6
        }
      ]
    },
    {
      "cell_type": "markdown",
      "metadata": {
        "id": "XxjnKPpCsGvK"
      },
      "source": [
        "## 3. Data Cleaning"
      ]
    },
    {
      "cell_type": "code",
      "metadata": {
        "id": "A4XDyNydtMaA",
        "colab": {
          "base_uri": "https://localhost:8080/"
        },
        "outputId": "9f0e7810-cdaa-47d9-e18d-6b3c4fab7db4"
      },
      "source": [
        "# Checking for duplicates \n",
        "# ---\n",
        "sum(df.duplicated())"
      ],
      "execution_count": null,
      "outputs": [
        {
          "output_type": "execute_result",
          "data": {
            "text/plain": [
              "0"
            ]
          },
          "metadata": {},
          "execution_count": 10
        }
      ]
    },
    {
      "cell_type": "code",
      "metadata": {
        "id": "w8xnypfS4gq-"
      },
      "source": [
        "# Checking for missing values \n",
        "# ---\n",
        "df.isnull().sum()"
      ],
      "execution_count": null,
      "outputs": []
    },
    {
      "cell_type": "code",
      "metadata": {
        "id": "3WrTOhBD9g6X"
      },
      "source": [
        "# Dropping irrelevant columns\n",
        "df= df.drop(['Invoice ID','Tax 5%'],axis='columns', inplace=True)"
      ],
      "execution_count": null,
      "outputs": []
    },
    {
      "cell_type": "markdown",
      "metadata": {
        "id": "Y3ps36B4sKsD"
      },
      "source": [
        "## 4. Data analysis and visualisation (Using Seaborn for visualisation)"
      ]
    },
    {
      "cell_type": "markdown",
      "metadata": {
        "id": "mYXBG4j36n22"
      },
      "source": [
        "We investigate the questions listed above in order to craft a fact-driven recommendation."
      ]
    },
    {
      "cell_type": "markdown",
      "metadata": {
        "id": "qLE1oTkK7Fye"
      },
      "source": [
        "### 4.a) Questions"
      ]
    },
    {
      "cell_type": "code",
      "metadata": {
        "id": "IXQBmVmU7NgY",
        "colab": {
          "base_uri": "https://localhost:8080/",
          "height": 425
        },
        "outputId": "919123ef-145b-4a04-e5b8-3409d7a1e95b"
      },
      "source": [
        "# Question 1 - Which product categories(Product_line) performed best.\n",
        "\n",
        "ProductPerformance=df.groupby(['Product line']).sum().reset_index()\n",
        "ProductPerformance=ProductPerformance.sort_values(by='Quantity', ascending=0)\n",
        "\n",
        "# Prepare\n",
        "plt.figure(figsize=(10, 5))\n",
        "Productline= ProductPerformance['Product line']\n",
        "Quantity =  ProductPerformance['Quantity']\n",
        "\n",
        "# Render vertical bar chart\n",
        "sns.barplot(data = ProductPerformance, x = \"Product line\", y = \"Quantity\")\n",
        "\n",
        "# Tweak and Label  \n",
        "plt.xticks(rotation = 45)\n",
        "plt.ylabel('Quantity')\n",
        "plt.title('Sales per Product line')\n",
        "\n",
        "# Display\n",
        "plt.show()\n"
      ],
      "execution_count": null,
      "outputs": [
        {
          "output_type": "display_data",
          "data": {
            "image/png": "[encoded data removed]",
            "text/plain": [
              "<Figure size 720x360 with 1 Axes>"
            ]
          },
          "metadata": {
            "needs_background": "light"
          }
        }
      ]
    },
    {
      "cell_type": "code",
      "metadata": {
        "id": "2P1G_Osn_4pd",
        "colab": {
          "base_uri": "https://localhost:8080/",
          "height": 405
        },
        "outputId": "b95888b4-aab0-4374-ed14-9c6177b724f6"
      },
      "source": [
        "# Question 2: Which branches had the highest sales and profits ?\n",
        "\n",
        "BranchPerformance=df.groupby(['Branch']).sum().reset_index()\n",
        "BranchPerformance=BranchPerformance.sort_values(by='gross income', ascending=0)\n",
        "\n",
        "# Render a plot\n",
        "\n",
        "fig, ax = plt.subplots(1, 2, figsize=(13, 6)) \n",
        "Branch=BranchPerformance['Branch']\n",
        "gross_income= BranchPerformance['gross income']\n",
        "sales= BranchPerformance['Quantity']\n",
        "\n",
        "fig, ax = plt.subplots(1, 2, figsize=(13, 6)) \n",
        "ax1 = sns.lineplot(data = BranchPerformance, x = Branch, y = gross_income,ax = ax[0])\n",
        "ax2 = sns.lineplot(data = BranchPerformance, x = Branch, y = sales,ax = ax[1])\n",
        "# Add a title \n",
        "ax1.set_title('Gross Income Per Branch', fontdict= {'fontname': 'Serif', 'fontsize': 15})\n",
        "ax2.set_title('Sales Per Branch', fontdict= {'fontname': 'Serif', 'fontsize': 15})\n",
        "\n",
        "# Add an x-axis label\n",
        "ax1.set_xlabel('Branch')\n",
        "ax2.set_xlabel('Branch')\n",
        "\n",
        "# Add a y-axis label\n",
        "ax1.set_ylabel('Gross Income')\n",
        "ax2.set_ylabel('Sales')\n",
        "# Add a legend\n",
        "\n",
        "\n",
        "# Display the plot\n",
        "plt.show()\n",
        "\n"
      ],
      "execution_count": null,
      "outputs": [
        {
          "output_type": "display_data",
          "data": {
            "image/png": "[encoded data removed]",
            "text/plain": [
              "<Figure size 936x432 with 2 Axes>"
            ]
          },
          "metadata": {
            "needs_background": "light"
          }
        }
      ]
    },
    {
      "cell_type": "code",
      "metadata": {
        "colab": {
          "base_uri": "https://localhost:8080/",
          "height": 142
        },
        "id": "xCUyh0q6ZQzJ",
        "outputId": "adad1728-3fc2-4de3-f1d7-48401b472c2c"
      },
      "source": [
        "BranchPerformance"
      ],
      "execution_count": null,
      "outputs": [
        {
          "output_type": "execute_result",
          "data": {
            "text/html": [
              "<div>\n",
              "<style scoped>\n",
              "    .dataframe tbody tr th:only-of-type {\n",
              "        vertical-align: middle;\n",
              "    }\n",
              "\n",
              "    .dataframe tbody tr th {\n",
              "        vertical-align: top;\n",
              "    }\n",
              "\n",
              "    .dataframe thead th {\n",
              "        text-align: right;\n",
              "    }\n",
              "</style>\n",
              "<table border=\"1\" class=\"dataframe\">\n",
              "  <thead>\n",
              "    <tr style=\"text-align: right;\">\n",
              "      <th></th>\n",
              "      <th>Branch</th>\n",
              "      <th>Unit price</th>\n",
              "      <th>Quantity</th>\n",
              "      <th>Tax 5%</th>\n",
              "      <th>Total</th>\n",
              "      <th>cogs</th>\n",
              "      <th>gross margin percentage</th>\n",
              "      <th>gross income</th>\n",
              "      <th>Rating</th>\n",
              "    </tr>\n",
              "  </thead>\n",
              "  <tbody>\n",
              "    <tr>\n",
              "      <th>0</th>\n",
              "      <td>A</td>\n",
              "      <td>18625.49</td>\n",
              "      <td>1859</td>\n",
              "      <td>5057.1605</td>\n",
              "      <td>106200.3705</td>\n",
              "      <td>101143.21</td>\n",
              "      <td>1619.047619</td>\n",
              "      <td>5057.1605</td>\n",
              "      <td>2389.2</td>\n",
              "    </tr>\n",
              "    <tr>\n",
              "      <th>1</th>\n",
              "      <td>B</td>\n",
              "      <td>18478.88</td>\n",
              "      <td>1820</td>\n",
              "      <td>5057.0320</td>\n",
              "      <td>106197.6720</td>\n",
              "      <td>101140.64</td>\n",
              "      <td>1580.952381</td>\n",
              "      <td>5057.0320</td>\n",
              "      <td>2263.6</td>\n",
              "    </tr>\n",
              "    <tr>\n",
              "      <th>2</th>\n",
              "      <td>C</td>\n",
              "      <td>18567.76</td>\n",
              "      <td>1831</td>\n",
              "      <td>5265.1765</td>\n",
              "      <td>110568.7065</td>\n",
              "      <td>105303.53</td>\n",
              "      <td>1561.904762</td>\n",
              "      <td>5265.1765</td>\n",
              "      <td>2319.9</td>\n",
              "    </tr>\n",
              "  </tbody>\n",
              "</table>\n",
              "</div>"
            ],
            "text/plain": [
              "  Branch  Unit price  Quantity  ...  gross margin percentage  gross income  Rating\n",
              "0      A    18625.49      1859  ...              1619.047619     5057.1605  2389.2\n",
              "1      B    18478.88      1820  ...              1580.952381     5057.0320  2263.6\n",
              "2      C    18567.76      1831  ...              1561.904762     5265.1765  2319.9\n",
              "\n",
              "[3 rows x 9 columns]"
            ]
          },
          "metadata": {},
          "execution_count": 24
        }
      ]
    },
    {
      "cell_type": "code",
      "metadata": {
        "id": "hXc3zRsbmfJX"
      },
      "source": [
        "# Question 3: What key trends in sales in each branch are noticeable over the time.\n",
        "\n",
        "\n",
        "sns.pairplot(BranchPerformance)\n",
        "\n",
        "# Display\n",
        "plt.show()\n",
        "\n"
      ],
      "execution_count": null,
      "outputs": []
    },
    {
      "cell_type": "code",
      "metadata": {
        "id": "ZNpDYFwlLJxq",
        "colab": {
          "base_uri": "https://localhost:8080/",
          "height": 142
        },
        "outputId": "1fbaaf6b-c16f-48cc-d314-dac4434c4d91"
      },
      "source": [
        "# Question 4(a): The average amount spent by customers for each branch.\n",
        "\n",
        "\n",
        "\n",
        "Avg_Percustomer_PerBranch=df.groupby(['Branch']).mean().reset_index()\n",
        "Avg_Percustomer_PerBranch[[\t'Branch', 'Total']]\n",
        "\n",
        "\n"
      ],
      "execution_count": null,
      "outputs": [
        {
          "output_type": "execute_result",
          "data": {
            "text/html": [
              "<div>\n",
              "<style scoped>\n",
              "    .dataframe tbody tr th:only-of-type {\n",
              "        vertical-align: middle;\n",
              "    }\n",
              "\n",
              "    .dataframe tbody tr th {\n",
              "        vertical-align: top;\n",
              "    }\n",
              "\n",
              "    .dataframe thead th {\n",
              "        text-align: right;\n",
              "    }\n",
              "</style>\n",
              "<table border=\"1\" class=\"dataframe\">\n",
              "  <thead>\n",
              "    <tr style=\"text-align: right;\">\n",
              "      <th></th>\n",
              "      <th>Branch</th>\n",
              "      <th>Total</th>\n",
              "    </tr>\n",
              "  </thead>\n",
              "  <tbody>\n",
              "    <tr>\n",
              "      <th>0</th>\n",
              "      <td>A</td>\n",
              "      <td>312.354031</td>\n",
              "    </tr>\n",
              "    <tr>\n",
              "      <th>1</th>\n",
              "      <td>B</td>\n",
              "      <td>319.872506</td>\n",
              "    </tr>\n",
              "    <tr>\n",
              "      <th>2</th>\n",
              "      <td>C</td>\n",
              "      <td>337.099715</td>\n",
              "    </tr>\n",
              "  </tbody>\n",
              "</table>\n",
              "</div>"
            ],
            "text/plain": [
              "  Branch       Total\n",
              "0      A  312.354031\n",
              "1      B  319.872506\n",
              "2      C  337.099715"
            ]
          },
          "metadata": {},
          "execution_count": 44
        }
      ]
    },
    {
      "cell_type": "code",
      "metadata": {
        "id": "U88XUgMrWAPP",
        "colab": {
          "base_uri": "https://localhost:8080/",
          "height": 142
        },
        "outputId": "a2f9261a-f8e1-405b-af2f-a365086a9e9b"
      },
      "source": [
        "# Question 4(b):The average rating for each branch.\n",
        "\n",
        "Avg_Rating_PerBranch=df.groupby(['Branch']).mean().reset_index()\n",
        "Avg_Rating_PerBranch[['Branch', 'Rating']]\n",
        "\n"
      ],
      "execution_count": null,
      "outputs": [
        {
          "output_type": "execute_result",
          "data": {
            "text/html": [
              "<div>\n",
              "<style scoped>\n",
              "    .dataframe tbody tr th:only-of-type {\n",
              "        vertical-align: middle;\n",
              "    }\n",
              "\n",
              "    .dataframe tbody tr th {\n",
              "        vertical-align: top;\n",
              "    }\n",
              "\n",
              "    .dataframe thead th {\n",
              "        text-align: right;\n",
              "    }\n",
              "</style>\n",
              "<table border=\"1\" class=\"dataframe\">\n",
              "  <thead>\n",
              "    <tr style=\"text-align: right;\">\n",
              "      <th></th>\n",
              "      <th>Branch</th>\n",
              "      <th>Rating</th>\n",
              "    </tr>\n",
              "  </thead>\n",
              "  <tbody>\n",
              "    <tr>\n",
              "      <th>0</th>\n",
              "      <td>A</td>\n",
              "      <td>7.027059</td>\n",
              "    </tr>\n",
              "    <tr>\n",
              "      <th>1</th>\n",
              "      <td>B</td>\n",
              "      <td>6.818072</td>\n",
              "    </tr>\n",
              "    <tr>\n",
              "      <th>2</th>\n",
              "      <td>C</td>\n",
              "      <td>7.072866</td>\n",
              "    </tr>\n",
              "  </tbody>\n",
              "</table>\n",
              "</div>"
            ],
            "text/plain": [
              "  Branch    Rating\n",
              "0      A  7.027059\n",
              "1      B  6.818072\n",
              "2      C  7.072866"
            ]
          },
          "metadata": {},
          "execution_count": 45
        }
      ]
    },
    {
      "cell_type": "markdown",
      "metadata": {
        "id": "XnuG3EZT5PRg"
      },
      "source": [
        "## 5. Summary of findings"
      ]
    },
    {
      "cell_type": "markdown",
      "metadata": {
        "id": "KNGGO3fOo2QX"
      },
      "source": [
        "What observations did you make from your analysis?\n",
        "1. Electronics accessories line made the most of item sales\n",
        "\n",
        "2. Branch C made the highest profit\n",
        "\n",
        "3. Branch C was the highest rated\n",
        "\n",
        "4. Health and Beauty line has the least quantity of items sold"
      ]
    },
    {
      "cell_type": "markdown",
      "metadata": {
        "id": "JQcKNPju5Xid"
      },
      "source": [
        "## 6. Recommendations"
      ]
    },
    {
      "cell_type": "markdown",
      "metadata": {
        "id": "aSzjdSJb-fwG"
      },
      "source": [
        "What recommendations can you make from your analysis/observations?\n",
        "\n",
        "1. Improve customer service in Branch B to increase customer ratings\n",
        "2. Do a promotion on Health and Beauty Items\n",
        "\n"
      ]
    }
  ]
}